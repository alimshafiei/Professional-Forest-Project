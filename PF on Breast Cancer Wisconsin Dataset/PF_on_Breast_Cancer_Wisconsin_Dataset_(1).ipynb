{
  "nbformat": 4,
  "nbformat_minor": 0,
  "metadata": {
    "colab": {
      "provenance": []
    },
    "kernelspec": {
      "name": "python3",
      "display_name": "Python 3"
    },
    "language_info": {
      "name": "python"
    }
  },
  "cells": [
    {
      "cell_type": "markdown",
      "source": [
        "# Project Overview\n",
        "# Creating Random Forest Model (Using GridSearch CV)\n",
        "Step1 to Step4\n",
        "\n",
        "# Creating Professional Forest (By Using GridSearch CV)\n",
        "# Scenario 1:\n",
        "Based on (Using GridSearch CV + Trees Score)\n",
        "\n",
        "*primary forest=1000, professional forest=200, Creating Trees with best Params\n",
        "# Creating Professional Forest (Without Using GridSearch CV)\n",
        "# Scenario 2:\n",
        "Based on Trees Score\n",
        "\n",
        "*primary forest=2000, professional forest=100, Using Naturaly and Randomly Trees\n",
        "# Creating Professional Forest (By Using GridSearch CV)\n",
        "# Scenario 3:\n",
        "Based on Trees Score + Using Very Professional Trees\n",
        "\n",
        "*primary forest=4000, professional forest=50, Using Naturaly and Randomly Trees\n",
        "# Conclusion"
      ],
      "metadata": {
        "id": "D5Wk06Fxb_Dj"
      }
    },
    {
      "cell_type": "markdown",
      "source": [
        "# Step 1: Load, Explore and Preprocess the Data\n",
        "Let's get started by loading the dataset and performing the initial preprocessing."
      ],
      "metadata": {
        "id": "OUsAM7eHxMwn"
      }
    },
    {
      "cell_type": "code",
      "source": [
        "import pandas as pd\n",
        "from sklearn.datasets import load_breast_cancer\n",
        "\n",
        "# Load the Breast Cancer Wisconsin dataset\n",
        "data = load_breast_cancer()\n",
        "\n",
        "# Convert to DataFrame\n",
        "df = pd.DataFrame(data.data, columns=data.feature_names)\n",
        "df['target'] = data.target\n",
        "\n",
        "# Display the first few rows of the DataFrame\n",
        "print(\"First few rows of the dataset:\")\n",
        "print(df.head())\n",
        "\n",
        "# Display basic statistics\n",
        "print(\"\\nBasic statistics of the dataset:\")\n",
        "print(df.describe())\n",
        "\n",
        "# Check for null values\n",
        "print(\"\\nChecking for null values:\")\n",
        "print(df.isnull().sum())\n"
      ],
      "metadata": {
        "trusted": true,
        "execution": {
          "iopub.status.busy": "2024-12-05T12:46:21.043474Z",
          "iopub.execute_input": "2024-12-05T12:46:21.043879Z",
          "iopub.status.idle": "2024-12-05T12:46:21.286167Z",
          "shell.execute_reply.started": "2024-12-05T12:46:21.043841Z",
          "shell.execute_reply": "2024-12-05T12:46:21.284941Z"
        },
        "colab": {
          "base_uri": "https://localhost:8080/"
        },
        "id": "KMKD4cupb_Dl",
        "outputId": "4f76eef0-0c16-4108-8520-f700a6f8ac06"
      },
      "outputs": [
        {
          "output_type": "stream",
          "name": "stdout",
          "text": [
            "First few rows of the dataset:\n",
            "   mean radius  mean texture  mean perimeter  mean area  mean smoothness  \\\n",
            "0        17.99         10.38          122.80     1001.0          0.11840   \n",
            "1        20.57         17.77          132.90     1326.0          0.08474   \n",
            "2        19.69         21.25          130.00     1203.0          0.10960   \n",
            "3        11.42         20.38           77.58      386.1          0.14250   \n",
            "4        20.29         14.34          135.10     1297.0          0.10030   \n",
            "\n",
            "   mean compactness  mean concavity  mean concave points  mean symmetry  \\\n",
            "0           0.27760          0.3001              0.14710         0.2419   \n",
            "1           0.07864          0.0869              0.07017         0.1812   \n",
            "2           0.15990          0.1974              0.12790         0.2069   \n",
            "3           0.28390          0.2414              0.10520         0.2597   \n",
            "4           0.13280          0.1980              0.10430         0.1809   \n",
            "\n",
            "   mean fractal dimension  ...  worst texture  worst perimeter  worst area  \\\n",
            "0                 0.07871  ...          17.33           184.60      2019.0   \n",
            "1                 0.05667  ...          23.41           158.80      1956.0   \n",
            "2                 0.05999  ...          25.53           152.50      1709.0   \n",
            "3                 0.09744  ...          26.50            98.87       567.7   \n",
            "4                 0.05883  ...          16.67           152.20      1575.0   \n",
            "\n",
            "   worst smoothness  worst compactness  worst concavity  worst concave points  \\\n",
            "0            0.1622             0.6656           0.7119                0.2654   \n",
            "1            0.1238             0.1866           0.2416                0.1860   \n",
            "2            0.1444             0.4245           0.4504                0.2430   \n",
            "3            0.2098             0.8663           0.6869                0.2575   \n",
            "4            0.1374             0.2050           0.4000                0.1625   \n",
            "\n",
            "   worst symmetry  worst fractal dimension  target  \n",
            "0          0.4601                  0.11890       0  \n",
            "1          0.2750                  0.08902       0  \n",
            "2          0.3613                  0.08758       0  \n",
            "3          0.6638                  0.17300       0  \n",
            "4          0.2364                  0.07678       0  \n",
            "\n",
            "[5 rows x 31 columns]\n",
            "\n",
            "Basic statistics of the dataset:\n",
            "       mean radius  mean texture  mean perimeter    mean area  \\\n",
            "count   569.000000    569.000000      569.000000   569.000000   \n",
            "mean     14.127292     19.289649       91.969033   654.889104   \n",
            "std       3.524049      4.301036       24.298981   351.914129   \n",
            "min       6.981000      9.710000       43.790000   143.500000   \n",
            "25%      11.700000     16.170000       75.170000   420.300000   \n",
            "50%      13.370000     18.840000       86.240000   551.100000   \n",
            "75%      15.780000     21.800000      104.100000   782.700000   \n",
            "max      28.110000     39.280000      188.500000  2501.000000   \n",
            "\n",
            "       mean smoothness  mean compactness  mean concavity  mean concave points  \\\n",
            "count       569.000000        569.000000      569.000000           569.000000   \n",
            "mean          0.096360          0.104341        0.088799             0.048919   \n",
            "std           0.014064          0.052813        0.079720             0.038803   \n",
            "min           0.052630          0.019380        0.000000             0.000000   \n",
            "25%           0.086370          0.064920        0.029560             0.020310   \n",
            "50%           0.095870          0.092630        0.061540             0.033500   \n",
            "75%           0.105300          0.130400        0.130700             0.074000   \n",
            "max           0.163400          0.345400        0.426800             0.201200   \n",
            "\n",
            "       mean symmetry  mean fractal dimension  ...  worst texture  \\\n",
            "count     569.000000              569.000000  ...     569.000000   \n",
            "mean        0.181162                0.062798  ...      25.677223   \n",
            "std         0.027414                0.007060  ...       6.146258   \n",
            "min         0.106000                0.049960  ...      12.020000   \n",
            "25%         0.161900                0.057700  ...      21.080000   \n",
            "50%         0.179200                0.061540  ...      25.410000   \n",
            "75%         0.195700                0.066120  ...      29.720000   \n",
            "max         0.304000                0.097440  ...      49.540000   \n",
            "\n",
            "       worst perimeter   worst area  worst smoothness  worst compactness  \\\n",
            "count       569.000000   569.000000        569.000000         569.000000   \n",
            "mean        107.261213   880.583128          0.132369           0.254265   \n",
            "std          33.602542   569.356993          0.022832           0.157336   \n",
            "min          50.410000   185.200000          0.071170           0.027290   \n",
            "25%          84.110000   515.300000          0.116600           0.147200   \n",
            "50%          97.660000   686.500000          0.131300           0.211900   \n",
            "75%         125.400000  1084.000000          0.146000           0.339100   \n",
            "max         251.200000  4254.000000          0.222600           1.058000   \n",
            "\n",
            "       worst concavity  worst concave points  worst symmetry  \\\n",
            "count       569.000000            569.000000      569.000000   \n",
            "mean          0.272188              0.114606        0.290076   \n",
            "std           0.208624              0.065732        0.061867   \n",
            "min           0.000000              0.000000        0.156500   \n",
            "25%           0.114500              0.064930        0.250400   \n",
            "50%           0.226700              0.099930        0.282200   \n",
            "75%           0.382900              0.161400        0.317900   \n",
            "max           1.252000              0.291000        0.663800   \n",
            "\n",
            "       worst fractal dimension      target  \n",
            "count               569.000000  569.000000  \n",
            "mean                  0.083946    0.627417  \n",
            "std                   0.018061    0.483918  \n",
            "min                   0.055040    0.000000  \n",
            "25%                   0.071460    0.000000  \n",
            "50%                   0.080040    1.000000  \n",
            "75%                   0.092080    1.000000  \n",
            "max                   0.207500    1.000000  \n",
            "\n",
            "[8 rows x 31 columns]\n",
            "\n",
            "Checking for null values:\n",
            "mean radius                0\n",
            "mean texture               0\n",
            "mean perimeter             0\n",
            "mean area                  0\n",
            "mean smoothness            0\n",
            "mean compactness           0\n",
            "mean concavity             0\n",
            "mean concave points        0\n",
            "mean symmetry              0\n",
            "mean fractal dimension     0\n",
            "radius error               0\n",
            "texture error              0\n",
            "perimeter error            0\n",
            "area error                 0\n",
            "smoothness error           0\n",
            "compactness error          0\n",
            "concavity error            0\n",
            "concave points error       0\n",
            "symmetry error             0\n",
            "fractal dimension error    0\n",
            "worst radius               0\n",
            "worst texture              0\n",
            "worst perimeter            0\n",
            "worst area                 0\n",
            "worst smoothness           0\n",
            "worst compactness          0\n",
            "worst concavity            0\n",
            "worst concave points       0\n",
            "worst symmetry             0\n",
            "worst fractal dimension    0\n",
            "target                     0\n",
            "dtype: int64\n"
          ]
        }
      ],
      "execution_count": null
    },
    {
      "cell_type": "markdown",
      "source": [
        "# Data Preprocessing\n",
        "Since there are no missing values in this dataset, we can proceed directly to splitting and standardizing the data."
      ],
      "metadata": {
        "id": "TS-umVgWb_Dm"
      }
    },
    {
      "cell_type": "code",
      "source": [
        "from sklearn.model_selection import train_test_split\n",
        "from sklearn.preprocessing import StandardScaler\n",
        "\n",
        "# Define features and target\n",
        "X = df.drop('target', axis=1)\n",
        "y = df['target']\n",
        "\n",
        "# Split the data into training and testing sets\n",
        "X_train, X_test, y_train, y_test = train_test_split(X, y, test_size=0.2, random_state=42)\n",
        "\n",
        "# Standardize the feature data\n",
        "scaler = StandardScaler()\n",
        "X_train = scaler.fit_transform(X_train)\n",
        "X_test = scaler.transform(X_test)\n",
        "\n",
        "print(\"Data preprocessing completed.\")\n",
        "print(\"Training data shape:\", X_train.shape)\n",
        "print(\"Testing data shape:\", X_test.shape)\n"
      ],
      "metadata": {
        "trusted": true,
        "execution": {
          "iopub.status.busy": "2024-12-05T12:46:37.241887Z",
          "iopub.execute_input": "2024-12-05T12:46:37.242283Z",
          "iopub.status.idle": "2024-12-05T12:46:37.260325Z",
          "shell.execute_reply.started": "2024-12-05T12:46:37.242248Z",
          "shell.execute_reply": "2024-12-05T12:46:37.259144Z"
        },
        "colab": {
          "base_uri": "https://localhost:8080/"
        },
        "id": "WxWaKvqkb_Dm",
        "outputId": "0b868ef9-6d8e-4ebe-fbee-6341740fea0a"
      },
      "outputs": [
        {
          "output_type": "stream",
          "name": "stdout",
          "text": [
            "Data preprocessing completed.\n",
            "Training data shape: (455, 30)\n",
            "Testing data shape: (114, 30)\n"
          ]
        }
      ],
      "execution_count": null
    },
    {
      "cell_type": "markdown",
      "source": [
        "# Step 2: Creating a Random Forest model\n",
        "# Hyperparameter Tuning with GridSearchCV\n",
        "Let's start by finding the best hyperparameters for the Random Forest model using GridSearchCV."
      ],
      "metadata": {
        "id": "qTTLmUisb_Dn"
      }
    },
    {
      "cell_type": "code",
      "source": [
        "from sklearn.ensemble import RandomForestClassifier\n",
        "from sklearn.model_selection import GridSearchCV\n",
        "\n",
        "# Define the parameter grid for GridSearchCV\n",
        "param_grid = {\n",
        "    'n_estimators': [100, 200, 300, 400, 500],\n",
        "    'max_depth': [None, 10, 20, 30],\n",
        "    'min_samples_split': [2, 5, 10],\n",
        "    'min_samples_leaf': [1, 2, 4]\n",
        "}\n",
        "\n",
        "# Initialize the Random Forest classifier\n",
        "rf = RandomForestClassifier(random_state=42)\n",
        "\n",
        "# Initialize GridSearchCV\n",
        "grid_search = GridSearchCV(estimator=rf, param_grid=param_grid, cv=5, scoring='accuracy', n_jobs=-1)\n",
        "\n",
        "# Fit GridSearchCV to the training data\n",
        "grid_search.fit(X_train, y_train)\n",
        "\n",
        "# Print the best parameters and score\n",
        "best_params = grid_search.best_params_\n",
        "print(f'Best Parameters: {best_params}')\n",
        "print(f'Best Cross-Validation Score: {grid_search.best_score_:.2f}')\n"
      ],
      "metadata": {
        "trusted": true,
        "execution": {
          "iopub.status.busy": "2024-12-05T11:37:56.478049Z",
          "iopub.execute_input": "2024-12-05T11:37:56.478509Z",
          "iopub.status.idle": "2024-12-05T11:42:09.779614Z",
          "shell.execute_reply.started": "2024-12-05T11:37:56.478474Z",
          "shell.execute_reply": "2024-12-05T11:42:09.777604Z"
        },
        "colab": {
          "base_uri": "https://localhost:8080/"
        },
        "id": "1pDMYRwOb_Dn",
        "outputId": "181946b8-7d5f-4d2b-814d-35480183b77c"
      },
      "outputs": [
        {
          "output_type": "stream",
          "name": "stdout",
          "text": [
            "Best Parameters: {'max_depth': None, 'min_samples_leaf': 1, 'min_samples_split': 2, 'n_estimators': 200}\n",
            "Best Cross-Validation Score: 0.96\n"
          ]
        }
      ],
      "execution_count": null
    },
    {
      "cell_type": "markdown",
      "source": [
        "# Step 3: **Train** the Random Forest Model (Using GirdSearch CV  Parameter)"
      ],
      "metadata": {
        "id": "M6wOjqEJb_Do"
      }
    },
    {
      "cell_type": "code",
      "source": [
        "# Create the Random Forest model with best parameters\n",
        "rf_best = RandomForestClassifier(\n",
        "    n_estimators=best_params['n_estimators'],\n",
        "    max_depth=best_params['max_depth'],\n",
        "    min_samples_split=best_params['min_samples_split'],\n",
        "    min_samples_leaf=best_params['min_samples_leaf'],\n",
        "    random_state=42,\n",
        "    n_jobs=-1\n",
        ")\n",
        "\n",
        "# Fit the model to the training data\n",
        "rf_best.fit(X_train, y_train)\n"
      ],
      "metadata": {
        "trusted": true,
        "execution": {
          "iopub.status.busy": "2024-12-05T11:43:01.726262Z",
          "iopub.execute_input": "2024-12-05T11:43:01.726817Z",
          "iopub.status.idle": "2024-12-05T11:43:02.442508Z",
          "shell.execute_reply.started": "2024-12-05T11:43:01.726775Z",
          "shell.execute_reply": "2024-12-05T11:43:02.44115Z"
        },
        "colab": {
          "base_uri": "https://localhost:8080/",
          "height": 80
        },
        "id": "uVtZk8wxb_Do",
        "outputId": "f9e83d25-afd2-4f77-f0be-efb7cd096a72"
      },
      "outputs": [
        {
          "output_type": "execute_result",
          "data": {
            "text/plain": [
              "RandomForestClassifier(n_estimators=200, n_jobs=-1, random_state=42)"
            ],
            "text/html": [
              "<style>#sk-container-id-1 {\n",
              "  /* Definition of color scheme common for light and dark mode */\n",
              "  --sklearn-color-text: black;\n",
              "  --sklearn-color-line: gray;\n",
              "  /* Definition of color scheme for unfitted estimators */\n",
              "  --sklearn-color-unfitted-level-0: #fff5e6;\n",
              "  --sklearn-color-unfitted-level-1: #f6e4d2;\n",
              "  --sklearn-color-unfitted-level-2: #ffe0b3;\n",
              "  --sklearn-color-unfitted-level-3: chocolate;\n",
              "  /* Definition of color scheme for fitted estimators */\n",
              "  --sklearn-color-fitted-level-0: #f0f8ff;\n",
              "  --sklearn-color-fitted-level-1: #d4ebff;\n",
              "  --sklearn-color-fitted-level-2: #b3dbfd;\n",
              "  --sklearn-color-fitted-level-3: cornflowerblue;\n",
              "\n",
              "  /* Specific color for light theme */\n",
              "  --sklearn-color-text-on-default-background: var(--sg-text-color, var(--theme-code-foreground, var(--jp-content-font-color1, black)));\n",
              "  --sklearn-color-background: var(--sg-background-color, var(--theme-background, var(--jp-layout-color0, white)));\n",
              "  --sklearn-color-border-box: var(--sg-text-color, var(--theme-code-foreground, var(--jp-content-font-color1, black)));\n",
              "  --sklearn-color-icon: #696969;\n",
              "\n",
              "  @media (prefers-color-scheme: dark) {\n",
              "    /* Redefinition of color scheme for dark theme */\n",
              "    --sklearn-color-text-on-default-background: var(--sg-text-color, var(--theme-code-foreground, var(--jp-content-font-color1, white)));\n",
              "    --sklearn-color-background: var(--sg-background-color, var(--theme-background, var(--jp-layout-color0, #111)));\n",
              "    --sklearn-color-border-box: var(--sg-text-color, var(--theme-code-foreground, var(--jp-content-font-color1, white)));\n",
              "    --sklearn-color-icon: #878787;\n",
              "  }\n",
              "}\n",
              "\n",
              "#sk-container-id-1 {\n",
              "  color: var(--sklearn-color-text);\n",
              "}\n",
              "\n",
              "#sk-container-id-1 pre {\n",
              "  padding: 0;\n",
              "}\n",
              "\n",
              "#sk-container-id-1 input.sk-hidden--visually {\n",
              "  border: 0;\n",
              "  clip: rect(1px 1px 1px 1px);\n",
              "  clip: rect(1px, 1px, 1px, 1px);\n",
              "  height: 1px;\n",
              "  margin: -1px;\n",
              "  overflow: hidden;\n",
              "  padding: 0;\n",
              "  position: absolute;\n",
              "  width: 1px;\n",
              "}\n",
              "\n",
              "#sk-container-id-1 div.sk-dashed-wrapped {\n",
              "  border: 1px dashed var(--sklearn-color-line);\n",
              "  margin: 0 0.4em 0.5em 0.4em;\n",
              "  box-sizing: border-box;\n",
              "  padding-bottom: 0.4em;\n",
              "  background-color: var(--sklearn-color-background);\n",
              "}\n",
              "\n",
              "#sk-container-id-1 div.sk-container {\n",
              "  /* jupyter's `normalize.less` sets `[hidden] { display: none; }`\n",
              "     but bootstrap.min.css set `[hidden] { display: none !important; }`\n",
              "     so we also need the `!important` here to be able to override the\n",
              "     default hidden behavior on the sphinx rendered scikit-learn.org.\n",
              "     See: https://github.com/scikit-learn/scikit-learn/issues/21755 */\n",
              "  display: inline-block !important;\n",
              "  position: relative;\n",
              "}\n",
              "\n",
              "#sk-container-id-1 div.sk-text-repr-fallback {\n",
              "  display: none;\n",
              "}\n",
              "\n",
              "div.sk-parallel-item,\n",
              "div.sk-serial,\n",
              "div.sk-item {\n",
              "  /* draw centered vertical line to link estimators */\n",
              "  background-image: linear-gradient(var(--sklearn-color-text-on-default-background), var(--sklearn-color-text-on-default-background));\n",
              "  background-size: 2px 100%;\n",
              "  background-repeat: no-repeat;\n",
              "  background-position: center center;\n",
              "}\n",
              "\n",
              "/* Parallel-specific style estimator block */\n",
              "\n",
              "#sk-container-id-1 div.sk-parallel-item::after {\n",
              "  content: \"\";\n",
              "  width: 100%;\n",
              "  border-bottom: 2px solid var(--sklearn-color-text-on-default-background);\n",
              "  flex-grow: 1;\n",
              "}\n",
              "\n",
              "#sk-container-id-1 div.sk-parallel {\n",
              "  display: flex;\n",
              "  align-items: stretch;\n",
              "  justify-content: center;\n",
              "  background-color: var(--sklearn-color-background);\n",
              "  position: relative;\n",
              "}\n",
              "\n",
              "#sk-container-id-1 div.sk-parallel-item {\n",
              "  display: flex;\n",
              "  flex-direction: column;\n",
              "}\n",
              "\n",
              "#sk-container-id-1 div.sk-parallel-item:first-child::after {\n",
              "  align-self: flex-end;\n",
              "  width: 50%;\n",
              "}\n",
              "\n",
              "#sk-container-id-1 div.sk-parallel-item:last-child::after {\n",
              "  align-self: flex-start;\n",
              "  width: 50%;\n",
              "}\n",
              "\n",
              "#sk-container-id-1 div.sk-parallel-item:only-child::after {\n",
              "  width: 0;\n",
              "}\n",
              "\n",
              "/* Serial-specific style estimator block */\n",
              "\n",
              "#sk-container-id-1 div.sk-serial {\n",
              "  display: flex;\n",
              "  flex-direction: column;\n",
              "  align-items: center;\n",
              "  background-color: var(--sklearn-color-background);\n",
              "  padding-right: 1em;\n",
              "  padding-left: 1em;\n",
              "}\n",
              "\n",
              "\n",
              "/* Toggleable style: style used for estimator/Pipeline/ColumnTransformer box that is\n",
              "clickable and can be expanded/collapsed.\n",
              "- Pipeline and ColumnTransformer use this feature and define the default style\n",
              "- Estimators will overwrite some part of the style using the `sk-estimator` class\n",
              "*/\n",
              "\n",
              "/* Pipeline and ColumnTransformer style (default) */\n",
              "\n",
              "#sk-container-id-1 div.sk-toggleable {\n",
              "  /* Default theme specific background. It is overwritten whether we have a\n",
              "  specific estimator or a Pipeline/ColumnTransformer */\n",
              "  background-color: var(--sklearn-color-background);\n",
              "}\n",
              "\n",
              "/* Toggleable label */\n",
              "#sk-container-id-1 label.sk-toggleable__label {\n",
              "  cursor: pointer;\n",
              "  display: block;\n",
              "  width: 100%;\n",
              "  margin-bottom: 0;\n",
              "  padding: 0.5em;\n",
              "  box-sizing: border-box;\n",
              "  text-align: center;\n",
              "}\n",
              "\n",
              "#sk-container-id-1 label.sk-toggleable__label-arrow:before {\n",
              "  /* Arrow on the left of the label */\n",
              "  content: \"▸\";\n",
              "  float: left;\n",
              "  margin-right: 0.25em;\n",
              "  color: var(--sklearn-color-icon);\n",
              "}\n",
              "\n",
              "#sk-container-id-1 label.sk-toggleable__label-arrow:hover:before {\n",
              "  color: var(--sklearn-color-text);\n",
              "}\n",
              "\n",
              "/* Toggleable content - dropdown */\n",
              "\n",
              "#sk-container-id-1 div.sk-toggleable__content {\n",
              "  max-height: 0;\n",
              "  max-width: 0;\n",
              "  overflow: hidden;\n",
              "  text-align: left;\n",
              "  /* unfitted */\n",
              "  background-color: var(--sklearn-color-unfitted-level-0);\n",
              "}\n",
              "\n",
              "#sk-container-id-1 div.sk-toggleable__content.fitted {\n",
              "  /* fitted */\n",
              "  background-color: var(--sklearn-color-fitted-level-0);\n",
              "}\n",
              "\n",
              "#sk-container-id-1 div.sk-toggleable__content pre {\n",
              "  margin: 0.2em;\n",
              "  border-radius: 0.25em;\n",
              "  color: var(--sklearn-color-text);\n",
              "  /* unfitted */\n",
              "  background-color: var(--sklearn-color-unfitted-level-0);\n",
              "}\n",
              "\n",
              "#sk-container-id-1 div.sk-toggleable__content.fitted pre {\n",
              "  /* unfitted */\n",
              "  background-color: var(--sklearn-color-fitted-level-0);\n",
              "}\n",
              "\n",
              "#sk-container-id-1 input.sk-toggleable__control:checked~div.sk-toggleable__content {\n",
              "  /* Expand drop-down */\n",
              "  max-height: 200px;\n",
              "  max-width: 100%;\n",
              "  overflow: auto;\n",
              "}\n",
              "\n",
              "#sk-container-id-1 input.sk-toggleable__control:checked~label.sk-toggleable__label-arrow:before {\n",
              "  content: \"▾\";\n",
              "}\n",
              "\n",
              "/* Pipeline/ColumnTransformer-specific style */\n",
              "\n",
              "#sk-container-id-1 div.sk-label input.sk-toggleable__control:checked~label.sk-toggleable__label {\n",
              "  color: var(--sklearn-color-text);\n",
              "  background-color: var(--sklearn-color-unfitted-level-2);\n",
              "}\n",
              "\n",
              "#sk-container-id-1 div.sk-label.fitted input.sk-toggleable__control:checked~label.sk-toggleable__label {\n",
              "  background-color: var(--sklearn-color-fitted-level-2);\n",
              "}\n",
              "\n",
              "/* Estimator-specific style */\n",
              "\n",
              "/* Colorize estimator box */\n",
              "#sk-container-id-1 div.sk-estimator input.sk-toggleable__control:checked~label.sk-toggleable__label {\n",
              "  /* unfitted */\n",
              "  background-color: var(--sklearn-color-unfitted-level-2);\n",
              "}\n",
              "\n",
              "#sk-container-id-1 div.sk-estimator.fitted input.sk-toggleable__control:checked~label.sk-toggleable__label {\n",
              "  /* fitted */\n",
              "  background-color: var(--sklearn-color-fitted-level-2);\n",
              "}\n",
              "\n",
              "#sk-container-id-1 div.sk-label label.sk-toggleable__label,\n",
              "#sk-container-id-1 div.sk-label label {\n",
              "  /* The background is the default theme color */\n",
              "  color: var(--sklearn-color-text-on-default-background);\n",
              "}\n",
              "\n",
              "/* On hover, darken the color of the background */\n",
              "#sk-container-id-1 div.sk-label:hover label.sk-toggleable__label {\n",
              "  color: var(--sklearn-color-text);\n",
              "  background-color: var(--sklearn-color-unfitted-level-2);\n",
              "}\n",
              "\n",
              "/* Label box, darken color on hover, fitted */\n",
              "#sk-container-id-1 div.sk-label.fitted:hover label.sk-toggleable__label.fitted {\n",
              "  color: var(--sklearn-color-text);\n",
              "  background-color: var(--sklearn-color-fitted-level-2);\n",
              "}\n",
              "\n",
              "/* Estimator label */\n",
              "\n",
              "#sk-container-id-1 div.sk-label label {\n",
              "  font-family: monospace;\n",
              "  font-weight: bold;\n",
              "  display: inline-block;\n",
              "  line-height: 1.2em;\n",
              "}\n",
              "\n",
              "#sk-container-id-1 div.sk-label-container {\n",
              "  text-align: center;\n",
              "}\n",
              "\n",
              "/* Estimator-specific */\n",
              "#sk-container-id-1 div.sk-estimator {\n",
              "  font-family: monospace;\n",
              "  border: 1px dotted var(--sklearn-color-border-box);\n",
              "  border-radius: 0.25em;\n",
              "  box-sizing: border-box;\n",
              "  margin-bottom: 0.5em;\n",
              "  /* unfitted */\n",
              "  background-color: var(--sklearn-color-unfitted-level-0);\n",
              "}\n",
              "\n",
              "#sk-container-id-1 div.sk-estimator.fitted {\n",
              "  /* fitted */\n",
              "  background-color: var(--sklearn-color-fitted-level-0);\n",
              "}\n",
              "\n",
              "/* on hover */\n",
              "#sk-container-id-1 div.sk-estimator:hover {\n",
              "  /* unfitted */\n",
              "  background-color: var(--sklearn-color-unfitted-level-2);\n",
              "}\n",
              "\n",
              "#sk-container-id-1 div.sk-estimator.fitted:hover {\n",
              "  /* fitted */\n",
              "  background-color: var(--sklearn-color-fitted-level-2);\n",
              "}\n",
              "\n",
              "/* Specification for estimator info (e.g. \"i\" and \"?\") */\n",
              "\n",
              "/* Common style for \"i\" and \"?\" */\n",
              "\n",
              ".sk-estimator-doc-link,\n",
              "a:link.sk-estimator-doc-link,\n",
              "a:visited.sk-estimator-doc-link {\n",
              "  float: right;\n",
              "  font-size: smaller;\n",
              "  line-height: 1em;\n",
              "  font-family: monospace;\n",
              "  background-color: var(--sklearn-color-background);\n",
              "  border-radius: 1em;\n",
              "  height: 1em;\n",
              "  width: 1em;\n",
              "  text-decoration: none !important;\n",
              "  margin-left: 1ex;\n",
              "  /* unfitted */\n",
              "  border: var(--sklearn-color-unfitted-level-1) 1pt solid;\n",
              "  color: var(--sklearn-color-unfitted-level-1);\n",
              "}\n",
              "\n",
              ".sk-estimator-doc-link.fitted,\n",
              "a:link.sk-estimator-doc-link.fitted,\n",
              "a:visited.sk-estimator-doc-link.fitted {\n",
              "  /* fitted */\n",
              "  border: var(--sklearn-color-fitted-level-1) 1pt solid;\n",
              "  color: var(--sklearn-color-fitted-level-1);\n",
              "}\n",
              "\n",
              "/* On hover */\n",
              "div.sk-estimator:hover .sk-estimator-doc-link:hover,\n",
              ".sk-estimator-doc-link:hover,\n",
              "div.sk-label-container:hover .sk-estimator-doc-link:hover,\n",
              ".sk-estimator-doc-link:hover {\n",
              "  /* unfitted */\n",
              "  background-color: var(--sklearn-color-unfitted-level-3);\n",
              "  color: var(--sklearn-color-background);\n",
              "  text-decoration: none;\n",
              "}\n",
              "\n",
              "div.sk-estimator.fitted:hover .sk-estimator-doc-link.fitted:hover,\n",
              ".sk-estimator-doc-link.fitted:hover,\n",
              "div.sk-label-container:hover .sk-estimator-doc-link.fitted:hover,\n",
              ".sk-estimator-doc-link.fitted:hover {\n",
              "  /* fitted */\n",
              "  background-color: var(--sklearn-color-fitted-level-3);\n",
              "  color: var(--sklearn-color-background);\n",
              "  text-decoration: none;\n",
              "}\n",
              "\n",
              "/* Span, style for the box shown on hovering the info icon */\n",
              ".sk-estimator-doc-link span {\n",
              "  display: none;\n",
              "  z-index: 9999;\n",
              "  position: relative;\n",
              "  font-weight: normal;\n",
              "  right: .2ex;\n",
              "  padding: .5ex;\n",
              "  margin: .5ex;\n",
              "  width: min-content;\n",
              "  min-width: 20ex;\n",
              "  max-width: 50ex;\n",
              "  color: var(--sklearn-color-text);\n",
              "  box-shadow: 2pt 2pt 4pt #999;\n",
              "  /* unfitted */\n",
              "  background: var(--sklearn-color-unfitted-level-0);\n",
              "  border: .5pt solid var(--sklearn-color-unfitted-level-3);\n",
              "}\n",
              "\n",
              ".sk-estimator-doc-link.fitted span {\n",
              "  /* fitted */\n",
              "  background: var(--sklearn-color-fitted-level-0);\n",
              "  border: var(--sklearn-color-fitted-level-3);\n",
              "}\n",
              "\n",
              ".sk-estimator-doc-link:hover span {\n",
              "  display: block;\n",
              "}\n",
              "\n",
              "/* \"?\"-specific style due to the `<a>` HTML tag */\n",
              "\n",
              "#sk-container-id-1 a.estimator_doc_link {\n",
              "  float: right;\n",
              "  font-size: 1rem;\n",
              "  line-height: 1em;\n",
              "  font-family: monospace;\n",
              "  background-color: var(--sklearn-color-background);\n",
              "  border-radius: 1rem;\n",
              "  height: 1rem;\n",
              "  width: 1rem;\n",
              "  text-decoration: none;\n",
              "  /* unfitted */\n",
              "  color: var(--sklearn-color-unfitted-level-1);\n",
              "  border: var(--sklearn-color-unfitted-level-1) 1pt solid;\n",
              "}\n",
              "\n",
              "#sk-container-id-1 a.estimator_doc_link.fitted {\n",
              "  /* fitted */\n",
              "  border: var(--sklearn-color-fitted-level-1) 1pt solid;\n",
              "  color: var(--sklearn-color-fitted-level-1);\n",
              "}\n",
              "\n",
              "/* On hover */\n",
              "#sk-container-id-1 a.estimator_doc_link:hover {\n",
              "  /* unfitted */\n",
              "  background-color: var(--sklearn-color-unfitted-level-3);\n",
              "  color: var(--sklearn-color-background);\n",
              "  text-decoration: none;\n",
              "}\n",
              "\n",
              "#sk-container-id-1 a.estimator_doc_link.fitted:hover {\n",
              "  /* fitted */\n",
              "  background-color: var(--sklearn-color-fitted-level-3);\n",
              "}\n",
              "</style><div id=\"sk-container-id-1\" class=\"sk-top-container\"><div class=\"sk-text-repr-fallback\"><pre>RandomForestClassifier(n_estimators=200, n_jobs=-1, random_state=42)</pre><b>In a Jupyter environment, please rerun this cell to show the HTML representation or trust the notebook. <br />On GitHub, the HTML representation is unable to render, please try loading this page with nbviewer.org.</b></div><div class=\"sk-container\" hidden><div class=\"sk-item\"><div class=\"sk-estimator fitted sk-toggleable\"><input class=\"sk-toggleable__control sk-hidden--visually\" id=\"sk-estimator-id-1\" type=\"checkbox\" checked><label for=\"sk-estimator-id-1\" class=\"sk-toggleable__label fitted sk-toggleable__label-arrow fitted\">&nbsp;&nbsp;RandomForestClassifier<a class=\"sk-estimator-doc-link fitted\" rel=\"noreferrer\" target=\"_blank\" href=\"https://scikit-learn.org/1.5/modules/generated/sklearn.ensemble.RandomForestClassifier.html\">?<span>Documentation for RandomForestClassifier</span></a><span class=\"sk-estimator-doc-link fitted\">i<span>Fitted</span></span></label><div class=\"sk-toggleable__content fitted\"><pre>RandomForestClassifier(n_estimators=200, n_jobs=-1, random_state=42)</pre></div> </div></div></div></div>"
            ]
          },
          "metadata": {},
          "execution_count": 4
        }
      ],
      "execution_count": null
    },
    {
      "cell_type": "markdown",
      "source": [
        "# Step 4: Evaluate the Random Forest Model (Using GirdSearch CV)"
      ],
      "metadata": {
        "id": "qCNIS4OAb_Dp"
      }
    },
    {
      "cell_type": "code",
      "source": [
        "from sklearn.metrics import accuracy_score, classification_report\n",
        "\n",
        "# Make predictions on the test set\n",
        "rf_predictions = rf_best.predict(X_test)\n",
        "\n",
        "# Calculate accuracy\n",
        "rf_accuracy = accuracy_score(y_test, rf_predictions)\n",
        "print(f'Random Forest Accuracy: {rf_accuracy:.2f}')\n",
        "\n",
        "# Detailed classification report\n",
        "rf_report = classification_report(y_test, rf_predictions)\n",
        "print(f'\\nClassification Report:\\n{rf_report}')\n"
      ],
      "metadata": {
        "trusted": true,
        "execution": {
          "iopub.status.busy": "2024-12-05T11:43:15.652574Z",
          "iopub.execute_input": "2024-12-05T11:43:15.65301Z",
          "iopub.status.idle": "2024-12-05T11:43:15.744855Z",
          "shell.execute_reply.started": "2024-12-05T11:43:15.652976Z",
          "shell.execute_reply": "2024-12-05T11:43:15.742815Z"
        },
        "colab": {
          "base_uri": "https://localhost:8080/"
        },
        "id": "e5RjuurTb_Dp",
        "outputId": "e6bb08fb-4fb1-418d-dc6d-815fc919d145"
      },
      "outputs": [
        {
          "output_type": "stream",
          "name": "stdout",
          "text": [
            "Random Forest Accuracy: 0.96\n",
            "\n",
            "Classification Report:\n",
            "              precision    recall  f1-score   support\n",
            "\n",
            "           0       0.98      0.93      0.95        43\n",
            "           1       0.96      0.99      0.97        71\n",
            "\n",
            "    accuracy                           0.96       114\n",
            "   macro avg       0.97      0.96      0.96       114\n",
            "weighted avg       0.97      0.96      0.96       114\n",
            "\n"
          ]
        }
      ],
      "execution_count": null
    },
    {
      "cell_type": "markdown",
      "source": [
        "# Professional Forest (PF) Plan: By Using GirdSearch CV Parameters\n",
        "# Scenario 1:\n",
        "1. Create Primary Forest with 1000 Trees.\n",
        "\n",
        "2. Score Trees and Select Top 20%.\n",
        "\n",
        "3. Evaluate the PF Model.\n",
        "\n",
        "4. Compare PF Model Performance with the Original RF Model"
      ],
      "metadata": {
        "id": "ykGLRLkKb_Dp"
      }
    },
    {
      "cell_type": "markdown",
      "source": [
        "# Scenario 1_1: Create Primary Forest with 1000 Trees (Using GirdSearch CV Parameters)"
      ],
      "metadata": {
        "id": "schcxOwWb_Dq"
      }
    },
    {
      "cell_type": "code",
      "source": [
        "# Function to create and score primary forests\n",
        "def create_and_score_forest(n_trees, X_train, y_train):\n",
        "    ppf = RandomForestClassifier(\n",
        "        n_estimators=n_trees,\n",
        "        max_depth=best_params['max_depth'],\n",
        "        min_samples_split=best_params['min_samples_split'],\n",
        "        min_samples_leaf=best_params['min_samples_leaf'],\n",
        "        random_state=42,\n",
        "        n_jobs=-1\n",
        "    )\n",
        "    ppf.fit(X_train, y_train)\n",
        "\n",
        "    scores = [tree.score(X_train, y_train) for tree in ppf.estimators_]\n",
        "    return ppf, scores\n",
        "\n",
        "# Create primary forest with 1000 trees\n",
        "n_trees_primary_forest = 1000\n",
        "primary_forest, primary_forest_scores = create_and_score_forest(n_trees_primary_forest, X_train, y_train)\n",
        "primary_forest_scores_df = pd.DataFrame({'score': primary_forest_scores})\n"
      ],
      "metadata": {
        "trusted": true,
        "execution": {
          "iopub.status.busy": "2024-12-05T11:45:50.886355Z",
          "iopub.execute_input": "2024-12-05T11:45:50.886901Z",
          "iopub.status.idle": "2024-12-05T11:45:54.718101Z",
          "shell.execute_reply.started": "2024-12-05T11:45:50.886863Z",
          "shell.execute_reply": "2024-12-05T11:45:54.71679Z"
        },
        "id": "Wnhuv0Iob_Dq"
      },
      "outputs": [],
      "execution_count": null
    },
    {
      "cell_type": "markdown",
      "source": [
        "# Scenario 1_2: Select Top 20% Trees and Create PF Model"
      ],
      "metadata": {
        "id": "PeUdg-fjb_Dq"
      }
    },
    {
      "cell_type": "code",
      "source": [
        "import numpy as np\n",
        "\n",
        "# Function to select top-performing trees and create PF\n",
        "def create_pf_from_ppf(ppf, tree_scores, top_percentage):\n",
        "    top_trees = int(len(tree_scores) * top_percentage)\n",
        "    top_tree_indices = tree_scores.nlargest(top_trees, 'score').index\n",
        "    pf_trees = [ppf.estimators_[i] for i in top_tree_indices]\n",
        "    return pf_trees\n",
        "\n",
        "# Select top 20% of trees\n",
        "top_percentage = 0.20\n",
        "pf_trees = create_pf_from_ppf(primary_forest, primary_forest_scores_df, top_percentage)\n",
        "print('It down')\n"
      ],
      "metadata": {
        "trusted": true,
        "execution": {
          "iopub.status.busy": "2024-12-05T11:46:57.458286Z",
          "iopub.execute_input": "2024-12-05T11:46:57.459239Z",
          "iopub.status.idle": "2024-12-05T11:46:57.470123Z",
          "shell.execute_reply.started": "2024-12-05T11:46:57.4592Z",
          "shell.execute_reply": "2024-12-05T11:46:57.468606Z"
        },
        "colab": {
          "base_uri": "https://localhost:8080/"
        },
        "id": "HHZRYTb7b_Dq",
        "outputId": "45b04092-f7ed-4310-dab5-5b4dfb28658b"
      },
      "outputs": [
        {
          "output_type": "stream",
          "name": "stdout",
          "text": [
            "It down\n"
          ]
        }
      ],
      "execution_count": null
    },
    {
      "cell_type": "markdown",
      "source": [
        "# Scenario 1_3: Evaluate the PF Model"
      ],
      "metadata": {
        "id": "2IEYP2tGb_Dq"
      }
    },
    {
      "cell_type": "code",
      "source": [
        "from sklearn.metrics import accuracy_score, classification_report\n",
        "\n",
        "# Evaluate the PF\n",
        "pf_predictions = np.mean([tree.predict(X_test) for tree in pf_trees], axis=0)\n",
        "pf_predictions = np.round(pf_predictions).astype(int)\n",
        "\n",
        "# Calculate accuracy\n",
        "pf_accuracy = accuracy_score(y_test, pf_predictions)\n",
        "print(f'Professional Forest Accuracy: {pf_accuracy:.2f}')\n",
        "\n",
        "# Detailed classification report\n",
        "pf_report = classification_report(y_test, pf_predictions)\n",
        "print(f'\\nClassification Report:\\n{pf_report}')\n",
        "print('It down')"
      ],
      "metadata": {
        "trusted": true,
        "execution": {
          "iopub.status.busy": "2024-12-05T11:47:22.821147Z",
          "iopub.execute_input": "2024-12-05T11:47:22.821599Z",
          "iopub.status.idle": "2024-12-05T11:47:22.86028Z",
          "shell.execute_reply.started": "2024-12-05T11:47:22.821563Z",
          "shell.execute_reply": "2024-12-05T11:47:22.858786Z"
        },
        "colab": {
          "base_uri": "https://localhost:8080/"
        },
        "id": "3MS4RGW4b_Dr",
        "outputId": "2a6a7654-45b3-4bc6-e0cc-3eb14f176b07"
      },
      "outputs": [
        {
          "output_type": "stream",
          "name": "stdout",
          "text": [
            "Professional Forest Accuracy: 0.96\n",
            "\n",
            "Classification Report:\n",
            "              precision    recall  f1-score   support\n",
            "\n",
            "           0       0.98      0.93      0.95        43\n",
            "           1       0.96      0.99      0.97        71\n",
            "\n",
            "    accuracy                           0.96       114\n",
            "   macro avg       0.97      0.96      0.96       114\n",
            "weighted avg       0.97      0.96      0.96       114\n",
            "\n",
            "It down\n"
          ]
        }
      ],
      "execution_count": null
    },
    {
      "cell_type": "markdown",
      "source": [
        "# Professional Forest (PF) Plan: Without Using GirdSearch CV Parameters\n",
        "# Scenario 2:\n",
        "Create Primary Forest with 2000 Trees.\n",
        "\n",
        "Score Trees and List Them.\n",
        "\n",
        "Select Top 5% Trees (100 Trees).\n",
        "\n",
        "Evaluate the PF Model.\n",
        "\n",
        "# Scenario 2_1: Create Primary Forest with 2000 Trees"
      ],
      "metadata": {
        "id": "fCmQxkcxb_Dr"
      }
    },
    {
      "cell_type": "code",
      "source": [
        "from sklearn.ensemble import RandomForestClassifier\n",
        "\n",
        "# Function to create and score primary forests\n",
        "def create_and_score_forest(n_trees, X_train, y_train):\n",
        "    ppf = RandomForestClassifier(\n",
        "        n_estimators=n_trees,\n",
        "        random_state=42,\n",
        "        n_jobs=-1\n",
        "    )\n",
        "    ppf.fit(X_train, y_train)\n",
        "\n",
        "    scores = [tree.score(X_train, y_train) for tree in ppf.estimators_]\n",
        "    return ppf, scores\n",
        "\n",
        "# Create primary forest with 2000 trees\n",
        "n_trees_primary_forest = 2000\n",
        "primary_forest, primary_forest_scores = create_and_score_forest(n_trees_primary_forest, X_train, y_train)\n",
        "primary_forest_scores_df = pd.DataFrame({'score': primary_forest_scores})\n",
        "print(\"Primary forest created and scored.\")\n"
      ],
      "metadata": {
        "trusted": true,
        "execution": {
          "iopub.status.busy": "2024-12-05T12:47:01.322496Z",
          "iopub.execute_input": "2024-12-05T12:47:01.322905Z",
          "iopub.status.idle": "2024-12-05T12:47:08.790887Z",
          "shell.execute_reply.started": "2024-12-05T12:47:01.322871Z",
          "shell.execute_reply": "2024-12-05T12:47:08.789693Z"
        },
        "colab": {
          "base_uri": "https://localhost:8080/"
        },
        "id": "Jo53zdyBb_Dr",
        "outputId": "fe68a7be-281c-447a-ad43-29cef936d7d5"
      },
      "outputs": [
        {
          "output_type": "stream",
          "name": "stdout",
          "text": [
            "Primary forest created and scored.\n"
          ]
        }
      ],
      "execution_count": null
    },
    {
      "cell_type": "markdown",
      "source": [
        "# Scenario 2_2: Score Trees and List Them"
      ],
      "metadata": {
        "id": "9WWr1OdZb_Dr"
      }
    },
    {
      "cell_type": "code",
      "source": [
        "# Display the scores\n",
        "print(primary_forest_scores_df.describe())\n"
      ],
      "metadata": {
        "trusted": true,
        "execution": {
          "iopub.status.busy": "2024-12-05T12:48:22.852685Z",
          "iopub.execute_input": "2024-12-05T12:48:22.853131Z",
          "iopub.status.idle": "2024-12-05T12:48:22.86472Z",
          "shell.execute_reply.started": "2024-12-05T12:48:22.853092Z",
          "shell.execute_reply": "2024-12-05T12:48:22.863532Z"
        },
        "colab": {
          "base_uri": "https://localhost:8080/"
        },
        "id": "Csv3VnRWb_Dr",
        "outputId": "629c34d8-59df-45ef-e5f4-65da5ba1de2e"
      },
      "outputs": [
        {
          "output_type": "stream",
          "name": "stdout",
          "text": [
            "             score\n",
            "count  2000.000000\n",
            "mean      0.969435\n",
            "std       0.008079\n",
            "min       0.938462\n",
            "25%       0.964835\n",
            "50%       0.969231\n",
            "75%       0.975824\n",
            "max       0.991209\n"
          ]
        }
      ],
      "execution_count": null
    },
    {
      "cell_type": "markdown",
      "source": [
        "# Scenario 2_3: Select Top 5% Trees (100 Trees)"
      ],
      "metadata": {
        "id": "sULxQS7cb_Ds"
      }
    },
    {
      "cell_type": "code",
      "source": [
        "# Function to select top-performing trees and create PF\n",
        "def create_pf_from_ppf(ppf, tree_scores, top_percentage):\n",
        "    top_trees = int(len(tree_scores) * top_percentage)\n",
        "    top_tree_indices = tree_scores.nlargest(top_trees, 'score').index\n",
        "    pf_trees = [ppf.estimators_[i] for i in top_tree_indices]\n",
        "    return pf_trees\n",
        "\n",
        "# Select top 5% of trees\n",
        "top_percentage = 0.05\n",
        "pf_trees = create_pf_from_ppf(primary_forest, primary_forest_scores_df, top_percentage)\n",
        "print(f\"Selected top {int(top_percentage * 100)}% of trees for PF.\")\n"
      ],
      "metadata": {
        "trusted": true,
        "execution": {
          "iopub.status.busy": "2024-12-05T12:49:34.734274Z",
          "iopub.execute_input": "2024-12-05T12:49:34.734678Z",
          "iopub.status.idle": "2024-12-05T12:49:34.745171Z",
          "shell.execute_reply.started": "2024-12-05T12:49:34.734641Z",
          "shell.execute_reply": "2024-12-05T12:49:34.743891Z"
        },
        "colab": {
          "base_uri": "https://localhost:8080/"
        },
        "id": "f0KuKpKeb_Ds",
        "outputId": "1f3ea323-88e7-4ca7-dd2a-58a1d099d030"
      },
      "outputs": [
        {
          "output_type": "stream",
          "name": "stdout",
          "text": [
            "Selected top 5% of trees for PF.\n"
          ]
        }
      ],
      "execution_count": null
    },
    {
      "cell_type": "markdown",
      "source": [
        "# Scenario 4: Evaluate the PF Model\n"
      ],
      "metadata": {
        "id": "mbPnD1R8b_Ds"
      }
    },
    {
      "cell_type": "code",
      "source": [
        "from sklearn.metrics import accuracy_score, classification_report\n",
        "import numpy as np\n",
        "\n",
        "# Evaluate the PF\n",
        "pf_predictions = np.mean([tree.predict(X_test) for tree in pf_trees], axis=0)\n",
        "pf_predictions = np.round(pf_predictions).astype(int)\n",
        "\n",
        "# Calculate accuracy\n",
        "pf_accuracy = accuracy_score(y_test, pf_predictions)\n",
        "print(f'Professional Forest Accuracy: {pf_accuracy:.2f}')\n",
        "\n",
        "# Detailed classification report\n",
        "pf_report = classification_report(y_test, pf_predictions)\n",
        "print(f'\\nClassification Report:\\n{pf_report}')\n"
      ],
      "metadata": {
        "trusted": true,
        "execution": {
          "iopub.status.busy": "2024-12-05T12:50:34.804028Z",
          "iopub.execute_input": "2024-12-05T12:50:34.804442Z",
          "iopub.status.idle": "2024-12-05T12:50:34.8349Z",
          "shell.execute_reply.started": "2024-12-05T12:50:34.804404Z",
          "shell.execute_reply": "2024-12-05T12:50:34.833741Z"
        },
        "colab": {
          "base_uri": "https://localhost:8080/"
        },
        "id": "4eD9WbbYb_Ds",
        "outputId": "e25ace00-7508-4edd-bed2-82eee8849c36"
      },
      "outputs": [
        {
          "output_type": "stream",
          "name": "stdout",
          "text": [
            "Professional Forest Accuracy: 0.96\n",
            "\n",
            "Classification Report:\n",
            "              precision    recall  f1-score   support\n",
            "\n",
            "           0       0.98      0.93      0.95        43\n",
            "           1       0.96      0.99      0.97        71\n",
            "\n",
            "    accuracy                           0.96       114\n",
            "   macro avg       0.97      0.96      0.96       114\n",
            "weighted avg       0.97      0.96      0.96       114\n",
            "\n"
          ]
        }
      ],
      "execution_count": null
    },
    {
      "cell_type": "markdown",
      "source": [
        "# Analysis:\n",
        "Performance Metrics: All models show identical performance metrics across accuracy, precision, recall, and F1-score. This consistency highlights the robustness of the PF approach, even when selecting different numbers of top-performing trees.\n",
        "\n",
        "Computational Efficiency: The PF model with 100 trees selected from 2000 demonstrates that we can achieve the same performance as the well-tuned RF model with significantly fewer trees. This reduction in model complexity can lead to faster prediction times and lower resource usage.\n",
        "\n",
        "Versatility of PF Approach: Both scenarios of PF (200 top trees from 1000 and 100 top trees from 2000) show that the PF method can maintain high performance with different configurations. This flexibility allows for efficient model optimization depending on resource constraints and requirements.\n",
        "\n",
        "# Conclusion:\n",
        "The PF approach, whether selecting 200 top trees from 1000 trees \"By using GridSearch CV\" or 100 top trees from 2000 trees \"without using GridSearch CV\", effectively maintains the high performance of the original Random Forest model with fewer trees. This not only preserves accuracy and other key metrics but also enhances computational efficiency, making PF a valuable strategy in various scenarios."
      ],
      "metadata": {
        "id": "_aC8ZznDb_Ds"
      }
    },
    {
      "cell_type": "markdown",
      "source": [
        "# Professional Forest (PF) Plan: (Creating Very Fast Model)\n",
        "# Scenario 3:\n",
        "Create Primary Forest with 4000 Trees.\n",
        "\n",
        "Score Trees and List Them.\n",
        "\n",
        "Select Top 1.25% Trees (50 Trees).\n",
        "\n",
        "Evaluate the PF Model.\n",
        "\n",
        "# Scenario 3_1: Create Primary Forest with 4000 Trees"
      ],
      "metadata": {
        "id": "UY19YM54b_Ds"
      }
    },
    {
      "cell_type": "code",
      "source": [
        "from sklearn.ensemble import RandomForestClassifier\n",
        "\n",
        "# Function to create and score primary forests\n",
        "def create_and_score_forest(n_trees, X_train, y_train):\n",
        "    ppf = RandomForestClassifier(\n",
        "        n_estimators=n_trees,\n",
        "        random_state=42,\n",
        "        n_jobs=-1\n",
        "    )\n",
        "    ppf.fit(X_train, y_train)\n",
        "\n",
        "    scores = [tree.score(X_train, y_train) for tree in ppf.estimators_]\n",
        "    return ppf, scores\n",
        "\n",
        "# Create primary forest with 4000 trees\n",
        "n_trees_primary_forest = 4000\n",
        "primary_forest, primary_forest_scores = create_and_score_forest(n_trees_primary_forest, X_train, y_train)\n",
        "primary_forest_scores_df = pd.DataFrame({'score': primary_forest_scores})\n",
        "print(\"Primary forest created and scored.\")\n"
      ],
      "metadata": {
        "trusted": true,
        "execution": {
          "iopub.status.busy": "2024-12-05T13:03:15.899989Z",
          "iopub.execute_input": "2024-12-05T13:03:15.900424Z",
          "iopub.status.idle": "2024-12-05T13:03:30.66795Z",
          "shell.execute_reply.started": "2024-12-05T13:03:15.900388Z",
          "shell.execute_reply": "2024-12-05T13:03:30.666852Z"
        },
        "colab": {
          "base_uri": "https://localhost:8080/"
        },
        "id": "OI8AQfe8b_Dt",
        "outputId": "f3562964-03c0-4b12-c5d1-f0b7245cad2a"
      },
      "outputs": [
        {
          "output_type": "stream",
          "name": "stdout",
          "text": [
            "Primary forest created and scored.\n"
          ]
        }
      ],
      "execution_count": null
    },
    {
      "cell_type": "markdown",
      "source": [
        "# Scenario 3_2: Score Trees and List Them"
      ],
      "metadata": {
        "id": "nKgu-dy6b_Dt"
      }
    },
    {
      "cell_type": "code",
      "source": [
        "# Display the scores\n",
        "print(primary_forest_scores_df.describe())\n"
      ],
      "metadata": {
        "trusted": true,
        "execution": {
          "iopub.status.busy": "2024-12-05T13:04:11.609845Z",
          "iopub.execute_input": "2024-12-05T13:04:11.610267Z",
          "iopub.status.idle": "2024-12-05T13:04:11.622932Z",
          "shell.execute_reply.started": "2024-12-05T13:04:11.610231Z",
          "shell.execute_reply": "2024-12-05T13:04:11.621531Z"
        },
        "colab": {
          "base_uri": "https://localhost:8080/"
        },
        "id": "ad9gndugb_Dt",
        "outputId": "bc6fce30-2b8a-4c68-9aff-89af299e6503"
      },
      "outputs": [
        {
          "output_type": "stream",
          "name": "stdout",
          "text": [
            "             score\n",
            "count  4000.000000\n",
            "mean      0.969536\n",
            "std       0.008176\n",
            "min       0.934066\n",
            "25%       0.964835\n",
            "50%       0.969231\n",
            "75%       0.975824\n",
            "max       0.993407\n"
          ]
        }
      ],
      "execution_count": null
    },
    {
      "cell_type": "markdown",
      "source": [
        "# Scenario 3_3: Select Top 1.25% Trees (50 Trees)"
      ],
      "metadata": {
        "id": "FCQYFn68b_Dt"
      }
    },
    {
      "cell_type": "code",
      "source": [
        "import numpy as np\n",
        "\n",
        "# Function to select top-performing trees and create PF\n",
        "def create_pf_from_ppf(ppf, tree_scores, top_percentage):\n",
        "    top_trees = int(len(tree_scores) * top_percentage)\n",
        "    top_tree_indices = tree_scores.nlargest(top_trees, 'score').index\n",
        "    pf_trees = [ppf.estimators_[i] for i in top_tree_indices]\n",
        "    return pf_trees\n",
        "\n",
        "# Select top 1.25% of trees\n",
        "top_percentage = 0.0125\n",
        "pf_trees = create_pf_from_ppf(primary_forest, primary_forest_scores_df, top_percentage)\n",
        "print(f\"Selected top {int(top_percentage * 100)}% of trees for PF.\")\n"
      ],
      "metadata": {
        "trusted": true,
        "execution": {
          "iopub.status.busy": "2024-12-05T13:05:25.541039Z",
          "iopub.execute_input": "2024-12-05T13:05:25.541432Z",
          "iopub.status.idle": "2024-12-05T13:05:25.552275Z",
          "shell.execute_reply.started": "2024-12-05T13:05:25.541399Z",
          "shell.execute_reply": "2024-12-05T13:05:25.551085Z"
        },
        "colab": {
          "base_uri": "https://localhost:8080/"
        },
        "id": "P8l1Jx5Gb_Dt",
        "outputId": "f1492170-83b0-4046-f5c7-ad003ecb8201"
      },
      "outputs": [
        {
          "output_type": "stream",
          "name": "stdout",
          "text": [
            "Selected top 1% of trees for PF.\n"
          ]
        }
      ],
      "execution_count": null
    },
    {
      "cell_type": "markdown",
      "source": [
        "# Scenario 3_4: Evaluate the PF Model"
      ],
      "metadata": {
        "id": "fz1cjGJ2b_Du"
      }
    },
    {
      "cell_type": "code",
      "source": [
        "from sklearn.metrics import accuracy_score, classification_report\n",
        "\n",
        "# Evaluate the PF\n",
        "pf_predictions = np.mean([tree.predict(X_test) for tree in pf_trees], axis=0)\n",
        "pf_predictions = np.round(pf_predictions).astype(int)\n",
        "\n",
        "# Calculate accuracy\n",
        "pf_accuracy = accuracy_score(y_test, pf_predictions)\n",
        "print(f'Professional Forest Accuracy: {pf_accuracy:.2f}')\n",
        "\n",
        "# Detailed classification report\n",
        "pf_report = classification_report(y_test, pf_predictions)\n",
        "print(f'\\nClassification Report:\\n{pf_report}')\n"
      ],
      "metadata": {
        "trusted": true,
        "execution": {
          "iopub.status.busy": "2024-12-05T13:33:47.268866Z",
          "iopub.execute_input": "2024-12-05T13:33:47.270021Z",
          "iopub.status.idle": "2024-12-05T13:33:47.294488Z",
          "shell.execute_reply.started": "2024-12-05T13:33:47.26995Z",
          "shell.execute_reply": "2024-12-05T13:33:47.293118Z"
        },
        "colab": {
          "base_uri": "https://localhost:8080/"
        },
        "id": "xJ6xautJb_Du",
        "outputId": "aa3184c9-1145-47ce-9d7f-aff7d917aa22"
      },
      "outputs": [
        {
          "output_type": "stream",
          "name": "stdout",
          "text": [
            "Professional Forest Accuracy: 0.96\n",
            "\n",
            "Classification Report:\n",
            "              precision    recall  f1-score   support\n",
            "\n",
            "           0       0.95      0.93      0.94        43\n",
            "           1       0.96      0.97      0.97        71\n",
            "\n",
            "    accuracy                           0.96       114\n",
            "   macro avg       0.96      0.95      0.95       114\n",
            "weighted avg       0.96      0.96      0.96       114\n",
            "\n"
          ]
        }
      ],
      "execution_count": null
    },
    {
      "cell_type": "markdown",
      "source": [
        "# Analysis:\n",
        "Consistency in Accuracy: All models, including the PF with 50 trees, maintained an accuracy of 0.96, demonstrating the robustness of the PF approach even with fewer trees.\n",
        "\n",
        "Slight Variations in Precision and Recall:\n",
        "\n",
        "The PF model with 50 trees shows a very slight reduction in precision for Class 0 (0.95) compared to the other models (0.98).\n",
        "\n",
        "The recall for Class 1 is slightly lower in the PF model with 50 trees (0.97) compared to the others (0.99).\n",
        "\n",
        "F1-Score:\n",
        "\n",
        "The F1-score for both classes in the PF model with 50 trees is marginally lower than the other models but still high (0.94 for Class 0 and 0.97 for Class 1).\n",
        "\n",
        "Efficiency Gains:\n",
        "\n",
        "Despite the slight variations, the PF model with 50 trees achieves a comparable performance to the RF and other PF models while significantly reducing the number of trees. This translates into faster predictions and potentially lower computational costs"
      ],
      "metadata": {
        "id": "8LVprjDBb_Du"
      }
    },
    {
      "cell_type": "markdown",
      "source": [
        "# Conclusion:\n",
        "The PF approach with 50 trees from a primary forest of 4000 maintains high performance, similar to the well-tuned RF model and the PF with 100 trees. The slight differences in precision and recall are minor and acceptable, especially given the efficiency gains from using fewer trees If we need to \"tiny\" and \"very fast\" model.\n",
        "\n",
        "This final experiment confirms the robustness and efficiency of the PF methodology in maintaining model performance with a more streamlined set of trees."
      ],
      "metadata": {
        "id": "grstbWj3b_Du"
      }
    },
    {
      "cell_type": "markdown",
      "source": [
        "# Final Conclusion:\n",
        "# By using PF approach we can create \"tiny\", \"impact\", \"robust\" and \"veryfast\" model\n",
        "# we don't need using GridSearch CV"
      ],
      "metadata": {
        "id": "PYIHgUxTnkG7"
      }
    },
    {
      "cell_type": "markdown",
      "source": [
        "## License\n",
        "This project is licensed under the MIT License - see the LICENSE file for details.\n",
        "\n",
        "## © 2024 Ali M Shafiei. All rights reserved.\n"
      ],
      "metadata": {
        "id": "GJo21a_hfuGF"
      }
    }
  ]
}